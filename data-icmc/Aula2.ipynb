{
  "nbformat": 4,
  "nbformat_minor": 0,
  "metadata": {
    "colab": {
      "provenance": []
    },
    "kernelspec": {
      "name": "python3",
      "display_name": "Python 3"
    },
    "language_info": {
      "name": "python"
    }
  },
  "cells": [
    {
      "cell_type": "markdown",
      "source": [
        "1) Faça uma função que dado um vetor de inteiros retorne o maior inteiro do vetor."
      ],
      "metadata": {
        "id": "sHuKusVT-9s8"
      }
    },
    {
      "cell_type": "code",
      "execution_count": null,
      "metadata": {
        "id": "AMe4EQy1-56Q"
      },
      "outputs": [],
      "source": []
    },
    {
      "cell_type": "markdown",
      "source": [
        "2) Você está organizando uma lista de alunos por turmas em uma escola. Cada turma contém vários alunos, e cada aluno é deve conter um nome, idade e id.\n",
        "\n",
        "Exercício da aula passada, porém deve ser resolvido utilizando o que aprendemos sobre POO.\n",
        "\n",
        "a) Crie duas turmas, cada uma contendo dois alunos.\n",
        "\n",
        "b) Adicionar um novo aluno: Adicione um novo aluno em uma das turmas.\n",
        "\n",
        "c) Remover um aluno: Remova um aluno de uma das turmas.\n",
        "\n",
        "d) Exibir os alunos de uma turma"
      ],
      "metadata": {
        "id": "X2x__oCs_IXk"
      }
    },
    {
      "cell_type": "code",
      "source": [],
      "metadata": {
        "id": "iFvW9guw_GYZ"
      },
      "execution_count": null,
      "outputs": []
    },
    {
      "cell_type": "markdown",
      "source": [
        "3) Crei uma função que dado dois vetores retorne um novo vetor que é a concatenação de ambos os vetores."
      ],
      "metadata": {
        "id": "cCA1CsoG_JX6"
      }
    },
    {
      "cell_type": "code",
      "source": [],
      "metadata": {
        "id": "2hV8v9dc_NlV"
      },
      "execution_count": null,
      "outputs": []
    },
    {
      "cell_type": "markdown",
      "source": [
        "4) Crie uma função que dado dois vetores retorne um novo vetor que é composto dos maiores elementos de cada vetor"
      ],
      "metadata": {
        "id": "SQBlFs4M_QPw"
      }
    },
    {
      "cell_type": "code",
      "source": [],
      "metadata": {
        "id": "Kbw67c-Y_Rj8"
      },
      "execution_count": null,
      "outputs": []
    },
    {
      "cell_type": "markdown",
      "source": [
        "5) Crie uma função que receba uma lista de palavras e retorne o número de palavras que tenham um tamanho maior do que 5"
      ],
      "metadata": {
        "id": "zl2rfovp_URo"
      }
    },
    {
      "cell_type": "code",
      "source": [],
      "metadata": {
        "id": "qYWCx9H3_VWa"
      },
      "execution_count": null,
      "outputs": []
    },
    {
      "cell_type": "markdown",
      "source": [
        "6) Agora crie uma função que dado um texto e um número retorne o número de palavras que tenham um tamanho maior do que o número fornecido."
      ],
      "metadata": {
        "id": "zVwdP8Me_X-6"
      }
    },
    {
      "cell_type": "code",
      "source": [],
      "metadata": {
        "id": "cpGotphF_YiN"
      },
      "execution_count": null,
      "outputs": []
    }
  ]
}