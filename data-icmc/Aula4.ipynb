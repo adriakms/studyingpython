{
  "nbformat": 4,
  "nbformat_minor": 0,
  "metadata": {
    "colab": {
      "provenance": []
    },
    "kernelspec": {
      "name": "python3",
      "display_name": "Python 3"
    },
    "language_info": {
      "name": "python"
    }
  },
  "cells": [
    {
      "cell_type": "code",
      "execution_count": null,
      "metadata": {
        "id": "A9Ohsg44Kx4b",
        "colab": {
          "base_uri": "https://localhost:8080/",
          "height": 209
        },
        "outputId": "a6a50c03-b4a9-4411-dcce-8472147a34d9"
      },
      "outputs": [
        {
          "output_type": "execute_result",
          "data": {
            "text/plain": [
              "0    1\n",
              "1    2\n",
              "2    3\n",
              "3    4\n",
              "dtype: int64"
            ],
            "text/html": [
              "<div>\n",
              "<style scoped>\n",
              "    .dataframe tbody tr th:only-of-type {\n",
              "        vertical-align: middle;\n",
              "    }\n",
              "\n",
              "    .dataframe tbody tr th {\n",
              "        vertical-align: top;\n",
              "    }\n",
              "\n",
              "    .dataframe thead th {\n",
              "        text-align: right;\n",
              "    }\n",
              "</style>\n",
              "<table border=\"1\" class=\"dataframe\">\n",
              "  <thead>\n",
              "    <tr style=\"text-align: right;\">\n",
              "      <th></th>\n",
              "      <th>0</th>\n",
              "    </tr>\n",
              "  </thead>\n",
              "  <tbody>\n",
              "    <tr>\n",
              "      <th>0</th>\n",
              "      <td>1</td>\n",
              "    </tr>\n",
              "    <tr>\n",
              "      <th>1</th>\n",
              "      <td>2</td>\n",
              "    </tr>\n",
              "    <tr>\n",
              "      <th>2</th>\n",
              "      <td>3</td>\n",
              "    </tr>\n",
              "    <tr>\n",
              "      <th>3</th>\n",
              "      <td>4</td>\n",
              "    </tr>\n",
              "  </tbody>\n",
              "</table>\n",
              "</div><br><label><b>dtype:</b> int64</label>"
            ]
          },
          "metadata": {},
          "execution_count": 5
        }
      ],
      "source": [
        "import pandas as pd\n",
        "\n",
        "#criar series com uma lista\n",
        "\n",
        "series1 = pd.Series([1,2,3,4])\n",
        "series1"
      ]
    },
    {
      "cell_type": "code",
      "source": [
        "#index da series\n",
        "series1.index"
      ],
      "metadata": {
        "id": "EQ9LIxG3K5fM",
        "colab": {
          "base_uri": "https://localhost:8080/"
        },
        "outputId": "749b2cbc-b3c4-4998-e7b5-110ffe64f7c8"
      },
      "execution_count": null,
      "outputs": [
        {
          "output_type": "execute_result",
          "data": {
            "text/plain": [
              "RangeIndex(start=0, stop=4, step=1)"
            ]
          },
          "metadata": {},
          "execution_count": 6
        }
      ]
    },
    {
      "cell_type": "code",
      "source": [
        "#Criar Series com um dict\n",
        "\n",
        "series2 = pd.Series(\n",
        "    {\n",
        "      \"a\":1,\n",
        "     \"b\":2,\n",
        "     \"c\":3,\n",
        "     \"d\":4\n",
        "     }\n",
        "    )\n",
        "series2"
      ],
      "metadata": {
        "id": "P6VTy1g5K8A7",
        "colab": {
          "base_uri": "https://localhost:8080/",
          "height": 209
        },
        "outputId": "16bdd554-23b3-4b9c-ae7c-e1861f2453c2"
      },
      "execution_count": null,
      "outputs": [
        {
          "output_type": "execute_result",
          "data": {
            "text/plain": [
              "a    1\n",
              "b    2\n",
              "c    3\n",
              "d    4\n",
              "dtype: int64"
            ],
            "text/html": [
              "<div>\n",
              "<style scoped>\n",
              "    .dataframe tbody tr th:only-of-type {\n",
              "        vertical-align: middle;\n",
              "    }\n",
              "\n",
              "    .dataframe tbody tr th {\n",
              "        vertical-align: top;\n",
              "    }\n",
              "\n",
              "    .dataframe thead th {\n",
              "        text-align: right;\n",
              "    }\n",
              "</style>\n",
              "<table border=\"1\" class=\"dataframe\">\n",
              "  <thead>\n",
              "    <tr style=\"text-align: right;\">\n",
              "      <th></th>\n",
              "      <th>0</th>\n",
              "    </tr>\n",
              "  </thead>\n",
              "  <tbody>\n",
              "    <tr>\n",
              "      <th>a</th>\n",
              "      <td>1</td>\n",
              "    </tr>\n",
              "    <tr>\n",
              "      <th>b</th>\n",
              "      <td>2</td>\n",
              "    </tr>\n",
              "    <tr>\n",
              "      <th>c</th>\n",
              "      <td>3</td>\n",
              "    </tr>\n",
              "    <tr>\n",
              "      <th>d</th>\n",
              "      <td>4</td>\n",
              "    </tr>\n",
              "  </tbody>\n",
              "</table>\n",
              "</div><br><label><b>dtype:</b> int64</label>"
            ]
          },
          "metadata": {},
          "execution_count": 7
        }
      ]
    },
    {
      "cell_type": "code",
      "source": [
        "#index da Series com dict\n",
        "series2.index"
      ],
      "metadata": {
        "id": "krYWXzycK_at",
        "colab": {
          "base_uri": "https://localhost:8080/"
        },
        "outputId": "dfa93e7b-1a27-449a-beae-5a1e5413d575"
      },
      "execution_count": null,
      "outputs": [
        {
          "output_type": "execute_result",
          "data": {
            "text/plain": [
              "Index(['a', 'b', 'c', 'd'], dtype='object')"
            ]
          },
          "metadata": {},
          "execution_count": 8
        }
      ]
    },
    {
      "cell_type": "code",
      "source": [
        "#ler arquivo CSV\n",
        "cols = [\"longitude\"\t,\"latitude\",\"housing_median_age\",\"population\", \"households\",\"median_income\"]\n",
        "arquivo = \"/content/sample_data/california_housing_test.csv\""
      ],
      "metadata": {
        "id": "vU3NHzLlLBPs"
      },
      "execution_count": null,
      "outputs": []
    },
    {
      "cell_type": "code",
      "source": [
        "#index, coluna e shape do dataframe"
      ],
      "metadata": {
        "id": "jjgJEDEmLMUM"
      },
      "execution_count": null,
      "outputs": []
    },
    {
      "cell_type": "code",
      "source": [
        "#head e info do DF"
      ],
      "metadata": {
        "id": "_mW2ntCWLQcD"
      },
      "execution_count": null,
      "outputs": []
    },
    {
      "cell_type": "code",
      "source": [
        "#vamos baixar o dataset dos filmes do james bond\n",
        "!wget --no-check-certificate 'https://drive.google.com/uc?export=download&id=1VhSehwUQBM_j27hbpCJwhnSQYtap0nCF' -O jamesbond.csv\n"
      ],
      "metadata": {
        "colab": {
          "base_uri": "https://localhost:8080/"
        },
        "id": "98czbHysLU1X",
        "outputId": "b1be5df1-1bc2-4683-8edf-1c357d367f24"
      },
      "execution_count": null,
      "outputs": [
        {
          "output_type": "stream",
          "name": "stdout",
          "text": [
            "--2024-09-23 18:57:36--  https://drive.google.com/uc?export=download&id=1VhSehwUQBM_j27hbpCJwhnSQYtap0nCF\n",
            "Resolving drive.google.com (drive.google.com)... 172.253.115.102, 172.253.115.138, 172.253.115.100, ...\n",
            "Connecting to drive.google.com (drive.google.com)|172.253.115.102|:443... connected.\n",
            "HTTP request sent, awaiting response... 303 See Other\n",
            "Location: https://drive.usercontent.google.com/download?id=1VhSehwUQBM_j27hbpCJwhnSQYtap0nCF&export=download [following]\n",
            "--2024-09-23 18:57:36--  https://drive.usercontent.google.com/download?id=1VhSehwUQBM_j27hbpCJwhnSQYtap0nCF&export=download\n",
            "Resolving drive.usercontent.google.com (drive.usercontent.google.com)... 172.253.122.132, 2607:f8b0:4004:c09::84\n",
            "Connecting to drive.usercontent.google.com (drive.usercontent.google.com)|172.253.122.132|:443... connected.\n",
            "HTTP request sent, awaiting response... 200 OK\n",
            "Length: 1769 (1.7K) [application/octet-stream]\n",
            "Saving to: ‘jamesbond.csv’\n",
            "\n",
            "jamesbond.csv       100%[===================>]   1.73K  --.-KB/s    in 0s      \n",
            "\n",
            "2024-09-23 18:57:38 (24.3 MB/s) - ‘jamesbond.csv’ saved [1769/1769]\n",
            "\n"
          ]
        }
      ]
    },
    {
      "cell_type": "code",
      "source": [
        "#ler csv do jamesbond\n",
        "path_arquivo_bond = \"jamesbond.csv\""
      ],
      "metadata": {
        "id": "RndUU71dLXcd"
      },
      "execution_count": null,
      "outputs": []
    },
    {
      "cell_type": "code",
      "source": [
        "#iloc com um número e uma slice"
      ],
      "metadata": {
        "id": "gmj2sR0ALpjO"
      },
      "execution_count": null,
      "outputs": []
    },
    {
      "cell_type": "code",
      "source": [
        "#colocar o index do DF do bond como o nome do filme (\"Film\")\n",
        "\n",
        "#ler o CSV e já colocar a coluna como index\n"
      ],
      "metadata": {
        "id": "SSNFjYNtMDK_"
      },
      "execution_count": null,
      "outputs": []
    },
    {
      "cell_type": "code",
      "source": [
        "#.loc com o nome do index (str)"
      ],
      "metadata": {
        "id": "L8xo3gs7MQHs"
      },
      "execution_count": null,
      "outputs": []
    },
    {
      "cell_type": "code",
      "source": [
        "#.loc com uma lista de indexes"
      ],
      "metadata": {
        "id": "kHBIur_MMY6K"
      },
      "execution_count": null,
      "outputs": []
    },
    {
      "cell_type": "code",
      "source": [
        "#.loc com slice"
      ],
      "metadata": {
        "id": "84GyHx4uMdCZ"
      },
      "execution_count": null,
      "outputs": []
    },
    {
      "cell_type": "code",
      "source": [
        "#.at para acessar e modificar valores"
      ],
      "metadata": {
        "id": "NqfoAucnMePg"
      },
      "execution_count": null,
      "outputs": []
    },
    {
      "cell_type": "code",
      "source": [
        "#filtrar dataframe pelas linhas onde os atores são: \"Sean Connery\" ou  \"Sir Sean Connery\""
      ],
      "metadata": {
        "id": "_9RtVCfxMl3z"
      },
      "execution_count": null,
      "outputs": []
    },
    {
      "cell_type": "code",
      "source": [
        "# acessar a coluna \"Bond Actor Salary\" e usar os métodos .mean() , max() , std()"
      ],
      "metadata": {
        "id": "VO8O2LuYMtVk"
      },
      "execution_count": null,
      "outputs": []
    },
    {
      "cell_type": "code",
      "source": [
        "# acessar a coluna \"Actor\" e usar value_counts()"
      ],
      "metadata": {
        "id": "CEAMaknUMwvz"
      },
      "execution_count": null,
      "outputs": []
    },
    {
      "cell_type": "code",
      "source": [
        "#Exercicio de Merge/Join\n",
        "\n",
        "# Listas de frutas e seus países de origem\n",
        "frutas = [\"Maçã\", \"Laranja\", \"Ameixa\", \"Uva\", \"Mirtilo\", \"Melancia\"]\n",
        "paises_frutas = [\"Brasil\", \"Espanha\", \"Portugal\", \"Itália\", \"EUA\", \"Brasil\"]\n",
        "\n",
        "df_frutas = pd.DataFrame({'Fruta': frutas, 'País': paises_frutas})\n",
        "\n",
        "esportes = [\"Futebol\", \"Basquete\", \"Vôlei\", \"Tênis\", \"Natação\"]\n",
        "paises_esportes = [\"Brasil\", \"EUA\", \"Brasil\", \"França\", \"EUA\"]\n",
        "\n",
        "# Criando DataFrame de esportes\n",
        "df_esportes = pd.DataFrame({'Esporte': esportes, 'País': paises_esportes})\n"
      ],
      "metadata": {
        "id": "EcEMxjJcM-BJ"
      },
      "execution_count": null,
      "outputs": []
    },
    {
      "cell_type": "code",
      "source": [
        "#inner join"
      ],
      "metadata": {
        "id": "qyg1jofENBD9"
      },
      "execution_count": null,
      "outputs": []
    },
    {
      "cell_type": "code",
      "source": [
        "#outer join"
      ],
      "metadata": {
        "id": "SoMJUydgNCJZ"
      },
      "execution_count": null,
      "outputs": []
    },
    {
      "cell_type": "code",
      "source": [
        "#groupby Actor"
      ],
      "metadata": {
        "id": "pd6b-kJYNDEH"
      },
      "execution_count": null,
      "outputs": []
    },
    {
      "cell_type": "code",
      "source": [
        "#acessar coluna \"Bond Actor Salary\" do groupby e usar as func de aggregação .mean(), .max() e .count()"
      ],
      "metadata": {
        "id": "ZOAIL5fnNK9l"
      },
      "execution_count": null,
      "outputs": []
    }
  ]
}