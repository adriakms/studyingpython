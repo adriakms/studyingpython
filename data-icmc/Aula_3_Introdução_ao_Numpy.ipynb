{
  "nbformat": 4,
  "nbformat_minor": 0,
  "metadata": {
    "colab": {
      "provenance": [],
      "collapsed_sections": [
        "DB1UqHjgmvuZ",
        "nu2vljzSmh0t",
        "hQnkY4iCmk-n",
        "0JFIK6fampZi",
        "WIDUeIMwoPSN",
        "G6F0EpIdoRhD",
        "S6xXf-G1v_4C",
        "oqPDqIF9maC5"
      ]
    },
    "kernelspec": {
      "name": "python3",
      "display_name": "Python 3"
    },
    "language_info": {
      "name": "python"
    }
  },
  "cells": [
    {
      "cell_type": "markdown",
      "source": [
        "# Prática"
      ],
      "metadata": {
        "id": "EhZi8FqOeRqE"
      }
    },
    {
      "cell_type": "markdown",
      "source": [
        "## Array"
      ],
      "metadata": {
        "id": "DB1UqHjgmvuZ"
      }
    },
    {
      "cell_type": "markdown",
      "source": [
        "### Importando biblioteca"
      ],
      "metadata": {
        "id": "nu2vljzSmh0t"
      }
    },
    {
      "cell_type": "code",
      "execution_count": null,
      "metadata": {
        "id": "V7WbJ9NHxCEr"
      },
      "outputs": [],
      "source": [
        "# Import biblioteca\n",
        "import numpy as np"
      ]
    },
    {
      "cell_type": "markdown",
      "source": [
        "### Informações básicas de um array"
      ],
      "metadata": {
        "id": "hQnkY4iCmk-n"
      }
    },
    {
      "cell_type": "code",
      "source": [
        "# Gerando um array com duas listas\n",
        "arr = np.array([[1, 2, 3], [4, 5, 6]], int)\n",
        "arr"
      ],
      "metadata": {
        "id": "P2zuKTAEyojG",
        "colab": {
          "base_uri": "https://localhost:8080/"
        },
        "outputId": "caf71f4e-7d93-4dec-f68b-350862604f2b"
      },
      "execution_count": null,
      "outputs": [
        {
          "output_type": "execute_result",
          "data": {
            "text/plain": [
              "array([[1, 2, 3],\n",
              "       [4, 5, 6]])"
            ]
          },
          "metadata": {},
          "execution_count": 2
        }
      ]
    },
    {
      "cell_type": "code",
      "source": [
        "# shape\n",
        "arr.shape"
      ],
      "metadata": {
        "colab": {
          "base_uri": "https://localhost:8080/"
        },
        "id": "2sHFJci9ZYo_",
        "outputId": "c4cb2a28-8ad8-40b8-e5d9-2e8b7cc6d99a"
      },
      "execution_count": null,
      "outputs": [
        {
          "output_type": "execute_result",
          "data": {
            "text/plain": [
              "(2, 3)"
            ]
          },
          "metadata": {},
          "execution_count": 3
        }
      ]
    },
    {
      "cell_type": "code",
      "source": [
        "# ndim\n",
        "arr.ndim"
      ],
      "metadata": {
        "colab": {
          "base_uri": "https://localhost:8080/"
        },
        "id": "ydW8MqeaZmjw",
        "outputId": "4e8adc81-32d9-407e-99a8-5591de5d59cb"
      },
      "execution_count": null,
      "outputs": [
        {
          "output_type": "execute_result",
          "data": {
            "text/plain": [
              "2"
            ]
          },
          "metadata": {},
          "execution_count": 4
        }
      ]
    },
    {
      "cell_type": "code",
      "source": [
        "# dtype\n",
        "arr.dtype"
      ],
      "metadata": {
        "colab": {
          "base_uri": "https://localhost:8080/"
        },
        "id": "Yj9ACs_jZoF8",
        "outputId": "235a029e-3445-40f0-8eb0-4e357c04a987"
      },
      "execution_count": null,
      "outputs": [
        {
          "output_type": "execute_result",
          "data": {
            "text/plain": [
              "dtype('int64')"
            ]
          },
          "metadata": {},
          "execution_count": 5
        }
      ]
    },
    {
      "cell_type": "code",
      "source": [
        "# Tentando criar um array com listas de tamanho diferente\n",
        "# arr_2 = np.array([[1, 2, 3, 4], [5, 6]])"
      ],
      "metadata": {
        "id": "GtqlYwn7eelK"
      },
      "execution_count": null,
      "outputs": []
    },
    {
      "cell_type": "code",
      "source": [
        "# Criando array com np.zeros\n",
        "arr = np.zeros((2, 2), int)\n",
        "arr"
      ],
      "metadata": {
        "colab": {
          "base_uri": "https://localhost:8080/"
        },
        "id": "lPHy7EYFR_4M",
        "outputId": "9a7d7094-2167-4660-f812-3f92de525c54"
      },
      "execution_count": null,
      "outputs": [
        {
          "output_type": "execute_result",
          "data": {
            "text/plain": [
              "array([[0, 0],\n",
              "       [0, 0]])"
            ]
          },
          "metadata": {},
          "execution_count": 7
        }
      ]
    },
    {
      "cell_type": "code",
      "source": [
        "# Criando array com np.identity\n",
        "arr = np.identity(4)\n",
        "arr"
      ],
      "metadata": {
        "colab": {
          "base_uri": "https://localhost:8080/"
        },
        "id": "31fQZuE78xm_",
        "outputId": "fd07e8ce-553e-41b1-aea3-d9befd1528a6"
      },
      "execution_count": null,
      "outputs": [
        {
          "output_type": "execute_result",
          "data": {
            "text/plain": [
              "array([[1., 0., 0., 0.],\n",
              "       [0., 1., 0., 0.],\n",
              "       [0., 0., 1., 0.],\n",
              "       [0., 0., 0., 1.]])"
            ]
          },
          "metadata": {},
          "execution_count": 8
        }
      ]
    },
    {
      "cell_type": "markdown",
      "source": [
        "## Computação Vetorizada"
      ],
      "metadata": {
        "id": "0JFIK6fampZi"
      }
    },
    {
      "cell_type": "markdown",
      "source": [
        "### Aritmética"
      ],
      "metadata": {
        "id": "WIDUeIMwoPSN"
      }
    },
    {
      "cell_type": "code",
      "source": [
        "arr_1 = np.arange(5)\n",
        "\n",
        "arr_2 = np.arange(5, 10)\n",
        "\n",
        "print(arr_1)\n",
        "\n",
        "print(arr_2)"
      ],
      "metadata": {
        "id": "IdsfhL1NnOuD",
        "colab": {
          "base_uri": "https://localhost:8080/"
        },
        "outputId": "3e3573c5-8750-40bc-c10e-6bbab422aa6f"
      },
      "execution_count": null,
      "outputs": [
        {
          "output_type": "stream",
          "name": "stdout",
          "text": [
            "[0 1 2 3 4]\n",
            "[5 6 7 8 9]\n"
          ]
        }
      ]
    },
    {
      "cell_type": "code",
      "source": [
        "# Operação entre arrays\n",
        "arr_1 + arr_2"
      ],
      "metadata": {
        "colab": {
          "base_uri": "https://localhost:8080/"
        },
        "id": "UB6klzFLojLe",
        "outputId": "36f51722-a30b-4349-c1f8-057d134a3acf"
      },
      "execution_count": null,
      "outputs": [
        {
          "output_type": "execute_result",
          "data": {
            "text/plain": [
              "array([ 5,  7,  9, 11, 13])"
            ]
          },
          "metadata": {},
          "execution_count": 10
        }
      ]
    },
    {
      "cell_type": "code",
      "source": [
        "# Operação com escalar\n",
        "arr_1 * 2"
      ],
      "metadata": {
        "colab": {
          "base_uri": "https://localhost:8080/"
        },
        "id": "wuMK_425o041",
        "outputId": "aa86eaf0-5f54-4940-b129-c55f217e2685"
      },
      "execution_count": null,
      "outputs": [
        {
          "output_type": "execute_result",
          "data": {
            "text/plain": [
              "array([0, 2, 4, 6, 8])"
            ]
          },
          "metadata": {},
          "execution_count": 11
        }
      ]
    },
    {
      "cell_type": "markdown",
      "source": [
        "### Comparações"
      ],
      "metadata": {
        "id": "G6F0EpIdoRhD"
      }
    },
    {
      "cell_type": "code",
      "source": [
        "arr1 = np.array([1, 2, 3, 4, 5, 6])\n",
        "arr2 = np.array([1, 2, 5, 4, 3, 6])\n",
        "\n",
        "print(arr1)\n",
        "print(arr2)"
      ],
      "metadata": {
        "colab": {
          "base_uri": "https://localhost:8080/"
        },
        "id": "TXSPNFf-ydYq",
        "outputId": "2c270349-e663-4aec-9910-09d0a80b7d9f"
      },
      "execution_count": null,
      "outputs": [
        {
          "output_type": "stream",
          "name": "stdout",
          "text": [
            "[1 2 3 4 5 6]\n",
            "[1 2 5 4 3 6]\n"
          ]
        }
      ]
    },
    {
      "cell_type": "code",
      "source": [
        "# Comparação entre arrays\n",
        "\n",
        "\n",
        "arr1 >= arr2"
      ],
      "metadata": {
        "colab": {
          "base_uri": "https://localhost:8080/"
        },
        "id": "XJB6RehSulB9",
        "outputId": "b6a809bd-49e8-4fde-f860-ed0a9894791a"
      },
      "execution_count": null,
      "outputs": [
        {
          "output_type": "execute_result",
          "data": {
            "text/plain": [
              "array([ True,  True, False,  True,  True,  True])"
            ]
          },
          "metadata": {},
          "execution_count": 13
        }
      ]
    },
    {
      "cell_type": "code",
      "source": [
        "# Comparação com escalar\n",
        "arr1 > 2"
      ],
      "metadata": {
        "colab": {
          "base_uri": "https://localhost:8080/"
        },
        "id": "kqaxhJAIoihj",
        "outputId": "47c5f6f5-db9f-43ba-8c17-df5ecf250072"
      },
      "execution_count": null,
      "outputs": [
        {
          "output_type": "execute_result",
          "data": {
            "text/plain": [
              "array([False, False,  True,  True,  True,  True])"
            ]
          },
          "metadata": {},
          "execution_count": 14
        }
      ]
    },
    {
      "cell_type": "code",
      "source": [
        "# Combinação de comparações\n",
        "\n",
        "(arr1 > 2) & (arr1 == arr2)"
      ],
      "metadata": {
        "colab": {
          "base_uri": "https://localhost:8080/"
        },
        "id": "8e8Nms8coiTq",
        "outputId": "415774a2-49a3-46e3-96a9-90104b7e4262"
      },
      "execution_count": null,
      "outputs": [
        {
          "output_type": "execute_result",
          "data": {
            "text/plain": [
              "array([False, False, False,  True, False,  True])"
            ]
          },
          "metadata": {},
          "execution_count": 15
        }
      ]
    },
    {
      "cell_type": "markdown",
      "source": [
        "### Indexação e fatiamento"
      ],
      "metadata": {
        "id": "OhCOiDOFodlr"
      }
    },
    {
      "cell_type": "code",
      "source": [
        "arr = np.array([[1, 2, 3], [4, 5, 6], [7, 8, 9]])\n",
        "\n",
        "arr"
      ],
      "metadata": {
        "colab": {
          "base_uri": "https://localhost:8080/"
        },
        "id": "BAgkg1Yg0K6d",
        "outputId": "d3c4bc6e-75c2-4356-aa1d-ec898c1cbeca"
      },
      "execution_count": null,
      "outputs": [
        {
          "output_type": "execute_result",
          "data": {
            "text/plain": [
              "array([[1, 2, 3],\n",
              "       [4, 5, 6],\n",
              "       [7, 8, 9]])"
            ]
          },
          "metadata": {},
          "execution_count": 16
        }
      ]
    },
    {
      "cell_type": "code",
      "source": [
        "# Indexação por índice com 1 dimensão\n",
        "arr[1]"
      ],
      "metadata": {
        "colab": {
          "base_uri": "https://localhost:8080/"
        },
        "id": "-G9puzYroghP",
        "outputId": "d097bd4c-89a4-4e18-c638-bb88c0c45150"
      },
      "execution_count": null,
      "outputs": [
        {
          "output_type": "execute_result",
          "data": {
            "text/plain": [
              "array([4, 5, 6])"
            ]
          },
          "metadata": {},
          "execution_count": 17
        }
      ]
    },
    {
      "cell_type": "code",
      "source": [
        "# Indexação por índice com mais dimensões\n",
        "arr[1, 2]"
      ],
      "metadata": {
        "colab": {
          "base_uri": "https://localhost:8080/"
        },
        "id": "OCIFeAlD01fD",
        "outputId": "65279c5c-d4c7-4e43-b42f-e1e090b5eaa9"
      },
      "execution_count": null,
      "outputs": [
        {
          "output_type": "execute_result",
          "data": {
            "text/plain": [
              "6"
            ]
          },
          "metadata": {},
          "execution_count": 18
        }
      ]
    },
    {
      "cell_type": "code",
      "source": [
        "# Indexação por fatiamento\n",
        "\n",
        "arr[1:2]"
      ],
      "metadata": {
        "colab": {
          "base_uri": "https://localhost:8080/"
        },
        "id": "S54CljDGohVy",
        "outputId": "81b471e8-3bc3-4d3b-fcdf-d8b90f65ae04"
      },
      "execution_count": null,
      "outputs": [
        {
          "output_type": "execute_result",
          "data": {
            "text/plain": [
              "array([[4, 5, 6]])"
            ]
          },
          "metadata": {},
          "execution_count": 19
        }
      ]
    },
    {
      "cell_type": "code",
      "source": [
        "# Fatiamento Vazio\n",
        "arr[:]"
      ],
      "metadata": {
        "colab": {
          "base_uri": "https://localhost:8080/"
        },
        "id": "rIBXuL4K1rYD",
        "outputId": "a40c16e8-3f91-4673-d392-b7e245510e1a"
      },
      "execution_count": null,
      "outputs": [
        {
          "output_type": "execute_result",
          "data": {
            "text/plain": [
              "array([[1, 2, 3],\n",
              "       [4, 5, 6],\n",
              "       [7, 8, 9]])"
            ]
          },
          "metadata": {},
          "execution_count": 20
        }
      ]
    },
    {
      "cell_type": "code",
      "source": [
        "# Visualizando linhas\n",
        "arr[1, :]"
      ],
      "metadata": {
        "colab": {
          "base_uri": "https://localhost:8080/"
        },
        "id": "rAJ3763g2AYz",
        "outputId": "0ef74896-64e4-4085-ac47-663181b9f917"
      },
      "execution_count": null,
      "outputs": [
        {
          "output_type": "execute_result",
          "data": {
            "text/plain": [
              "array([4, 5, 6])"
            ]
          },
          "metadata": {},
          "execution_count": 21
        }
      ]
    },
    {
      "cell_type": "code",
      "source": [
        "# Visualizando colunas\n",
        "arr[:, 1]"
      ],
      "metadata": {
        "colab": {
          "base_uri": "https://localhost:8080/"
        },
        "id": "MvqZSt_U2C0p",
        "outputId": "7afa5a76-4aba-4b22-e966-692585139165"
      },
      "execution_count": null,
      "outputs": [
        {
          "output_type": "execute_result",
          "data": {
            "text/plain": [
              "array([2, 5, 8])"
            ]
          },
          "metadata": {},
          "execution_count": 22
        }
      ]
    },
    {
      "cell_type": "code",
      "source": [
        "# Indexação por vetor: array unidimensional\n",
        "arr_unidimensional = arr[arr > 3]"
      ],
      "metadata": {
        "id": "vyVIcbAqohA6"
      },
      "execution_count": null,
      "outputs": []
    },
    {
      "cell_type": "code",
      "source": [
        "# Reshape\n",
        "new_arr = arr_unidimensional.reshape((2, 3))\n",
        "new_arr"
      ],
      "metadata": {
        "colab": {
          "base_uri": "https://localhost:8080/"
        },
        "id": "SyKrIcUr3OJc",
        "outputId": "cbf231ef-df29-4953-df93-26729e0cf8b4"
      },
      "execution_count": null,
      "outputs": [
        {
          "output_type": "execute_result",
          "data": {
            "text/plain": [
              "array([[4, 5, 6],\n",
              "       [7, 8, 9]])"
            ]
          },
          "metadata": {},
          "execution_count": 24
        }
      ]
    },
    {
      "cell_type": "code",
      "source": [
        "# Referencia: Alterando copia da fatia\n",
        "arr_cp = new_arr.copy()\n",
        "arr_cp[:, 1] = -1\n",
        "new_arr\n"
      ],
      "metadata": {
        "colab": {
          "base_uri": "https://localhost:8080/"
        },
        "id": "EI67KZMt6Pn-",
        "outputId": "d7413bae-f149-49f2-b572-ccb4b31b1e3d"
      },
      "execution_count": null,
      "outputs": [
        {
          "output_type": "execute_result",
          "data": {
            "text/plain": [
              "array([[4, 5, 6],\n",
              "       [7, 8, 9]])"
            ]
          },
          "metadata": {},
          "execution_count": 25
        }
      ]
    },
    {
      "cell_type": "code",
      "source": [
        "# Referencia: Alterando a fatia\n",
        "new_arr[:, 1] = -1\n",
        "new_arr"
      ],
      "metadata": {
        "colab": {
          "base_uri": "https://localhost:8080/"
        },
        "id": "TEM2Ph316z_r",
        "outputId": "d6227b04-eabb-4369-8510-cba46aec4886"
      },
      "execution_count": null,
      "outputs": [
        {
          "output_type": "execute_result",
          "data": {
            "text/plain": [
              "array([[ 4, -1,  6],\n",
              "       [ 7, -1,  9]])"
            ]
          },
          "metadata": {},
          "execution_count": 26
        }
      ]
    },
    {
      "cell_type": "code",
      "source": [
        "# Olhando array unidimensional\n",
        "arr_unidimensional"
      ],
      "metadata": {
        "colab": {
          "base_uri": "https://localhost:8080/"
        },
        "id": "BMkZMC2j6-U6",
        "outputId": "0a72b692-1ac0-4438-d2c0-8e7d51695780"
      },
      "execution_count": null,
      "outputs": [
        {
          "output_type": "execute_result",
          "data": {
            "text/plain": [
              "array([ 4, -1,  6,  7, -1,  9])"
            ]
          },
          "metadata": {},
          "execution_count": 27
        }
      ]
    },
    {
      "cell_type": "markdown",
      "source": [
        "## Estatística para numpy"
      ],
      "metadata": {
        "id": "L37lyEGsd5ao"
      }
    },
    {
      "cell_type": "markdown",
      "source": [
        "### Estatísticas descritivas"
      ],
      "metadata": {
        "id": "qEnN7vdNd-0m"
      }
    },
    {
      "cell_type": "code",
      "source": [
        "\n",
        "arr = np.linspace(0, 20, 21)\n",
        "arr"
      ],
      "metadata": {
        "id": "aYQ2n8gLeG4q",
        "colab": {
          "base_uri": "https://localhost:8080/"
        },
        "outputId": "114e789b-5844-486c-afc4-73b1bee9e910"
      },
      "execution_count": null,
      "outputs": [
        {
          "output_type": "execute_result",
          "data": {
            "text/plain": [
              "array([ 0.,  1.,  2.,  3.,  4.,  5.,  6.,  7.,  8.,  9., 10., 11., 12.,\n",
              "       13., 14., 15., 16., 17., 18., 19., 20.])"
            ]
          },
          "metadata": {},
          "execution_count": 28
        }
      ]
    },
    {
      "cell_type": "code",
      "source": [
        "# Média\n",
        "arr.mean()"
      ],
      "metadata": {
        "colab": {
          "base_uri": "https://localhost:8080/"
        },
        "id": "Ve50vsYYqI4v",
        "outputId": "402e23a8-9745-483c-bdb3-0b202ccd6ee1"
      },
      "execution_count": null,
      "outputs": [
        {
          "output_type": "execute_result",
          "data": {
            "text/plain": [
              "10.0"
            ]
          },
          "metadata": {},
          "execution_count": 29
        }
      ]
    },
    {
      "cell_type": "code",
      "source": [
        "# Máximo\n",
        "arr.max()"
      ],
      "metadata": {
        "colab": {
          "base_uri": "https://localhost:8080/"
        },
        "id": "LW3FmLYHrWkR",
        "outputId": "c9159315-d7a5-486d-d122-fb6a18380358"
      },
      "execution_count": null,
      "outputs": [
        {
          "output_type": "execute_result",
          "data": {
            "text/plain": [
              "20.0"
            ]
          },
          "metadata": {},
          "execution_count": 30
        }
      ]
    },
    {
      "cell_type": "code",
      "source": [
        "# Mínimo\n",
        "arr.min()"
      ],
      "metadata": {
        "colab": {
          "base_uri": "https://localhost:8080/"
        },
        "id": "W4iDSvzerZe9",
        "outputId": "dbe6097b-6e19-4229-b77e-4fed139f9bb4"
      },
      "execution_count": null,
      "outputs": [
        {
          "output_type": "execute_result",
          "data": {
            "text/plain": [
              "0.0"
            ]
          },
          "metadata": {},
          "execution_count": 31
        }
      ]
    },
    {
      "cell_type": "code",
      "source": [
        "# Índice máx\n",
        "arr.argmax()"
      ],
      "metadata": {
        "colab": {
          "base_uri": "https://localhost:8080/"
        },
        "id": "GF9ILMI5rdoF",
        "outputId": "282341f3-6439-4c9c-e272-95e45f278163"
      },
      "execution_count": null,
      "outputs": [
        {
          "output_type": "execute_result",
          "data": {
            "text/plain": [
              "20"
            ]
          },
          "metadata": {},
          "execution_count": 32
        }
      ]
    },
    {
      "cell_type": "code",
      "source": [
        "# Índice min\n",
        "arr.argmin()"
      ],
      "metadata": {
        "colab": {
          "base_uri": "https://localhost:8080/"
        },
        "id": "Z0rbfOvRri_B",
        "outputId": "c03df7f6-ae89-42e9-9d13-3b70d09ec41c"
      },
      "execution_count": null,
      "outputs": [
        {
          "output_type": "execute_result",
          "data": {
            "text/plain": [
              "0"
            ]
          },
          "metadata": {},
          "execution_count": 33
        }
      ]
    },
    {
      "cell_type": "code",
      "source": [
        "# Desvio padrao\n",
        "arr.std()"
      ],
      "metadata": {
        "colab": {
          "base_uri": "https://localhost:8080/"
        },
        "id": "UJ6t98bUtYMF",
        "outputId": "36511f2b-b620-4f77-8dde-5f264373baf3"
      },
      "execution_count": null,
      "outputs": [
        {
          "output_type": "execute_result",
          "data": {
            "text/plain": [
              "6.0553007081949835"
            ]
          },
          "metadata": {},
          "execution_count": 34
        }
      ]
    },
    {
      "cell_type": "code",
      "source": [
        "# Soma\n",
        "arr.sum()"
      ],
      "metadata": {
        "colab": {
          "base_uri": "https://localhost:8080/"
        },
        "id": "NgaRyc6UnRNa",
        "outputId": "9820b35d-59bc-495d-d923-ad04b3472056"
      },
      "execution_count": null,
      "outputs": [
        {
          "output_type": "execute_result",
          "data": {
            "text/plain": [
              "210.0"
            ]
          },
          "metadata": {},
          "execution_count": 35
        }
      ]
    },
    {
      "cell_type": "code",
      "source": [
        "# Soma cumulativa\n",
        "arr.cumsum()"
      ],
      "metadata": {
        "colab": {
          "base_uri": "https://localhost:8080/"
        },
        "id": "ZQEhmxmdnZcz",
        "outputId": "915f831a-2c5c-4799-ec6d-f86ed0bbb167"
      },
      "execution_count": null,
      "outputs": [
        {
          "output_type": "execute_result",
          "data": {
            "text/plain": [
              "array([  0.,   1.,   3.,   6.,  10.,  15.,  21.,  28.,  36.,  45.,  55.,\n",
              "        66.,  78.,  91., 105., 120., 136., 153., 171., 190., 210.])"
            ]
          },
          "metadata": {},
          "execution_count": 36
        }
      ]
    },
    {
      "cell_type": "markdown",
      "source": [
        "### Mini - exercício\n",
        "\n",
        "Selecione os valores que se distanciam da média até um desvio padrão"
      ],
      "metadata": {
        "id": "EQMd_TmDynQw"
      }
    },
    {
      "cell_type": "code",
      "source": [],
      "metadata": {
        "id": "1FX8Xs_wymRQ"
      },
      "execution_count": null,
      "outputs": []
    },
    {
      "cell_type": "markdown",
      "source": [
        "## Funções universais"
      ],
      "metadata": {
        "id": "S6xXf-G1v_4C"
      }
    },
    {
      "cell_type": "code",
      "source": [
        "# Mediana\n",
        "np.median(arr)"
      ],
      "metadata": {
        "colab": {
          "base_uri": "https://localhost:8080/"
        },
        "id": "2H0JfTEqwCUm",
        "outputId": "f684161e-92c9-4666-9fd3-1d3ae653953a"
      },
      "execution_count": null,
      "outputs": [
        {
          "output_type": "execute_result",
          "data": {
            "text/plain": [
              "10.0"
            ]
          },
          "metadata": {},
          "execution_count": 37
        }
      ]
    },
    {
      "cell_type": "code",
      "source": [
        "# Percentil\n",
        "np.percentile(arr, 33)"
      ],
      "metadata": {
        "colab": {
          "base_uri": "https://localhost:8080/"
        },
        "id": "dr_Hy0lkxVEo",
        "outputId": "11d751de-2a5a-4e05-d4db-9e780225373c"
      },
      "execution_count": null,
      "outputs": [
        {
          "output_type": "execute_result",
          "data": {
            "text/plain": [
              "6.6000000000000005"
            ]
          },
          "metadata": {},
          "execution_count": 38
        }
      ]
    },
    {
      "cell_type": "code",
      "source": [
        "# seno\n",
        "arr = np.array([0, np.pi / 2])"
      ],
      "metadata": {
        "id": "3gkFrW9gxgWj"
      },
      "execution_count": null,
      "outputs": []
    },
    {
      "cell_type": "code",
      "source": [
        "# Adição de arrays\n",
        "arr1 = np.array([9, 9, 9, 9, 9])\n",
        "arr2 = np.array([6, 7, 8, 9, 10])\n",
        "\n",
        "np.add(arr1, arr2)"
      ],
      "metadata": {
        "id": "X3dQQLB9ya0p",
        "colab": {
          "base_uri": "https://localhost:8080/"
        },
        "outputId": "2af806ef-e1df-4b49-aef9-674710d4ccd9"
      },
      "execution_count": null,
      "outputs": [
        {
          "output_type": "execute_result",
          "data": {
            "text/plain": [
              "array([15, 16, 17, 18, 19])"
            ]
          },
          "metadata": {},
          "execution_count": 40
        }
      ]
    },
    {
      "cell_type": "code",
      "source": [
        "#maximum\n",
        "np.maximum(arr1, arr2)"
      ],
      "metadata": {
        "id": "_8Zd-8jcsmKD",
        "colab": {
          "base_uri": "https://localhost:8080/"
        },
        "outputId": "57cf4280-1fb5-4fab-f87c-4bea39ad9ae0"
      },
      "execution_count": null,
      "outputs": [
        {
          "output_type": "execute_result",
          "data": {
            "text/plain": [
              "array([ 9,  9,  9,  9, 10])"
            ]
          },
          "metadata": {},
          "execution_count": 41
        }
      ]
    },
    {
      "cell_type": "code",
      "source": [
        "# modf\n",
        "arr = np.random.uniform(0.0, 10.0, 6)\n",
        "np.modf(arr)"
      ],
      "metadata": {
        "colab": {
          "base_uri": "https://localhost:8080/"
        },
        "id": "6MdPAxkuvh-x",
        "outputId": "5a9d8ad6-270a-46b6-d929-75bdd165bb26"
      },
      "execution_count": null,
      "outputs": [
        {
          "output_type": "execute_result",
          "data": {
            "text/plain": [
              "(array([0.28265933, 0.89006163, 0.53838076, 0.36314423, 0.2325095 ,\n",
              "        0.03925409]),\n",
              " array([1., 1., 9., 3., 6., 5.]))"
            ]
          },
          "metadata": {},
          "execution_count": 42
        }
      ]
    },
    {
      "cell_type": "markdown",
      "source": [
        "## Algebra Linear"
      ],
      "metadata": {
        "id": "so55LitT17bC"
      }
    },
    {
      "cell_type": "code",
      "source": [
        "mtx = np.eye(3) + [1, 1.5, 3]\n",
        "mtx"
      ],
      "metadata": {
        "colab": {
          "base_uri": "https://localhost:8080/"
        },
        "id": "cPA1ZcG_5VLW",
        "outputId": "29f6a8b4-ea41-4185-bc1f-346acae05b21"
      },
      "execution_count": null,
      "outputs": [
        {
          "output_type": "execute_result",
          "data": {
            "text/plain": [
              "array([[2. , 1.5, 3. ],\n",
              "       [1. , 2.5, 3. ],\n",
              "       [1. , 1.5, 4. ]])"
            ]
          },
          "metadata": {},
          "execution_count": 43
        }
      ]
    },
    {
      "cell_type": "code",
      "source": [
        "vet = np.array([1, 2, 3])\n",
        "vet"
      ],
      "metadata": {
        "colab": {
          "base_uri": "https://localhost:8080/"
        },
        "id": "tgYHq_7i6Zfi",
        "outputId": "31994623-e4f5-42de-e85d-a288f2a7dd6c"
      },
      "execution_count": null,
      "outputs": [
        {
          "output_type": "execute_result",
          "data": {
            "text/plain": [
              "array([1, 2, 3])"
            ]
          },
          "metadata": {},
          "execution_count": 44
        }
      ]
    },
    {
      "cell_type": "code",
      "source": [
        "# Multiplicação de matrizes: .dot e @\n",
        "mtx.dot(vet)"
      ],
      "metadata": {
        "colab": {
          "base_uri": "https://localhost:8080/"
        },
        "id": "tzenX9ty6hM6",
        "outputId": "cc8dbe9b-3941-4dcf-9b3e-bcc14c7c84fb"
      },
      "execution_count": null,
      "outputs": [
        {
          "output_type": "execute_result",
          "data": {
            "text/plain": [
              "array([14., 15., 16.])"
            ]
          },
          "metadata": {},
          "execution_count": 45
        }
      ]
    },
    {
      "cell_type": "code",
      "source": [
        "mtx @ vet"
      ],
      "metadata": {
        "colab": {
          "base_uri": "https://localhost:8080/"
        },
        "id": "dyswNnSk60to",
        "outputId": "396ea251-ae03-4103-f771-7fd60064ae69"
      },
      "execution_count": null,
      "outputs": [
        {
          "output_type": "execute_result",
          "data": {
            "text/plain": [
              "array([14., 15., 16.])"
            ]
          },
          "metadata": {},
          "execution_count": 46
        }
      ]
    },
    {
      "cell_type": "code",
      "source": [
        "# Determinante\n",
        "np.linalg.det(mtx)"
      ],
      "metadata": {
        "colab": {
          "base_uri": "https://localhost:8080/"
        },
        "id": "UI6uXmQgG5y9",
        "outputId": "87d95d7c-8f79-4b6a-f31c-d98a0215f65b"
      },
      "execution_count": null,
      "outputs": [
        {
          "output_type": "execute_result",
          "data": {
            "text/plain": [
              "6.500000000000001"
            ]
          },
          "metadata": {},
          "execution_count": 47
        }
      ]
    },
    {
      "cell_type": "code",
      "source": [
        "# Transposição\n",
        "\n",
        "mtx.T"
      ],
      "metadata": {
        "colab": {
          "base_uri": "https://localhost:8080/"
        },
        "id": "P6Y2NkffSK-1",
        "outputId": "e77e4985-8029-4dc2-dc2c-da466f0cade8"
      },
      "execution_count": null,
      "outputs": [
        {
          "output_type": "execute_result",
          "data": {
            "text/plain": [
              "array([[2. , 1. , 1. ],\n",
              "       [1.5, 2.5, 1.5],\n",
              "       [3. , 3. , 4. ]])"
            ]
          },
          "metadata": {},
          "execution_count": 48
        }
      ]
    },
    {
      "cell_type": "code",
      "source": [
        "# Matriz inversa\n",
        "np.linalg.inv(mtx)"
      ],
      "metadata": {
        "colab": {
          "base_uri": "https://localhost:8080/"
        },
        "id": "PFPmTJyQSQlf",
        "outputId": "998e8cf7-ad2b-4d65-f507-dd3baaf867ed"
      },
      "execution_count": null,
      "outputs": [
        {
          "output_type": "execute_result",
          "data": {
            "text/plain": [
              "array([[ 0.84615385, -0.23076923, -0.46153846],\n",
              "       [-0.15384615,  0.76923077, -0.46153846],\n",
              "       [-0.15384615, -0.23076923,  0.53846154]])"
            ]
          },
          "metadata": {},
          "execution_count": 49
        }
      ]
    },
    {
      "cell_type": "markdown",
      "source": [
        "# Exercícios\n"
      ],
      "metadata": {
        "id": "oqPDqIF9maC5"
      }
    },
    {
      "cell_type": "markdown",
      "source": [
        "## Exercício 1\n",
        "\n",
        "Faça uma função que receba um array como entrada, remova o primeiro e o último elementos do array e retorne um novo array contendo os elementos restantes."
      ],
      "metadata": {
        "id": "yajA8PUFMiz6"
      }
    },
    {
      "cell_type": "code",
      "source": [
        "# Código\n",
        "\n",
        "original = np.array([2, 5, 7, 9, 1, 4, 6])\n",
        "\n",
        "# Saída: [5 7 9 1 4]"
      ],
      "metadata": {
        "id": "pewdmDtoMl0e"
      },
      "execution_count": null,
      "outputs": []
    },
    {
      "cell_type": "markdown",
      "source": [
        "### Resolução"
      ],
      "metadata": {
        "id": "HZ3T6NiUMmWo"
      }
    },
    {
      "cell_type": "code",
      "source": [
        "import numpy as np\n",
        "\n",
        "def eliminaExtremos(original):\n",
        "  return original[1:-1]\n",
        "\n",
        "# Exemplo\n",
        "original = np.array([2, 5, 7, 9, 1, 4, 6])\n",
        "print(eliminaExtremos(original))"
      ],
      "metadata": {
        "id": "52yB2FTFMoea",
        "colab": {
          "base_uri": "https://localhost:8080/"
        },
        "outputId": "5bd095f1-149b-43bd-9f27-0154459d0b21"
      },
      "execution_count": null,
      "outputs": [
        {
          "output_type": "stream",
          "name": "stdout",
          "text": [
            "[5 7 9 1 4]\n"
          ]
        }
      ]
    },
    {
      "cell_type": "markdown",
      "source": [
        "## Exercício 2\n",
        "\n",
        "Crie um array com elementos de 0 a 100 e calcule a soma de todos os valores pares."
      ],
      "metadata": {
        "id": "goxEFQwcMpam"
      }
    },
    {
      "cell_type": "code",
      "source": [
        "# Código\n",
        "\n",
        "# Saída: 2550"
      ],
      "metadata": {
        "id": "Jg0BXD_tMrJn"
      },
      "execution_count": null,
      "outputs": []
    },
    {
      "cell_type": "markdown",
      "source": [
        "### Resolução"
      ],
      "metadata": {
        "id": "JX19YeTmMrgL"
      }
    },
    {
      "cell_type": "code",
      "source": [
        "import numpy as np\n",
        "\n",
        "numeros = np.arange(101)\n",
        "somaPares = np.sum(numeros[numeros % 2 == 0])\n",
        "\n",
        "print(somaPares)"
      ],
      "metadata": {
        "id": "4-mh3pNjMsyN",
        "colab": {
          "base_uri": "https://localhost:8080/"
        },
        "outputId": "f35bce8d-39ee-46fc-b4f9-3ac4b8c97e1b"
      },
      "execution_count": null,
      "outputs": [
        {
          "output_type": "stream",
          "name": "stdout",
          "text": [
            "2550\n"
          ]
        }
      ]
    },
    {
      "cell_type": "markdown",
      "source": [
        "## Exercício 3\n",
        "\n",
        "Gere um array A contendo todos os números ímpares entre 0 e 100. A partir de A, crie outro array que contenha a soma cumulativa dos elementos de A que são divisíveis por 3 e 5 simultaneamente."
      ],
      "metadata": {
        "id": "v3neOdeNMtsc"
      }
    },
    {
      "cell_type": "code",
      "source": [
        "# Código\n",
        "\n",
        "# Saída: [15 60 135]"
      ],
      "metadata": {
        "id": "rfZ-I9LDMzdt"
      },
      "execution_count": null,
      "outputs": []
    },
    {
      "cell_type": "markdown",
      "source": [
        "### Resolução"
      ],
      "metadata": {
        "id": "SzsTphhdMzyO"
      }
    },
    {
      "cell_type": "code",
      "source": [
        "import numpy as np\n",
        "\n",
        "impares = np.arange(1, 100, 2)\n",
        "\n",
        "multiplos3e5 = impares[(impares % 3 == 0) & (impares % 5 == 0)]\n",
        "somaCumulativa = np.cumsum(multiplos3e5)\n",
        "\n",
        "print(somaCumulativa)"
      ],
      "metadata": {
        "id": "HJYa7W4gM1gi",
        "colab": {
          "base_uri": "https://localhost:8080/"
        },
        "outputId": "58c83248-a2e2-42f4-98b3-404278563fa7"
      },
      "execution_count": null,
      "outputs": [
        {
          "output_type": "stream",
          "name": "stdout",
          "text": [
            "[ 15  60 135]\n"
          ]
        }
      ]
    },
    {
      "cell_type": "markdown",
      "source": [
        "## Exercício 4\n",
        "\n",
        "Faça uma função que dados dois vetores (valores e pesos), calcule a média ponderada de valores com seus respectivos pesos.\n",
        "\n",
        "Observação: não é permitido utilizar a função np.average do NumPy"
      ],
      "metadata": {
        "id": "MM1uxopiM2gL"
      }
    },
    {
      "cell_type": "code",
      "source": [
        "# Código\n",
        "\n",
        "valores = np.array([1, 2, 5])\n",
        "pesos = np.array([3, 2, 1])\n",
        "\n",
        "# Saída: 2.0"
      ],
      "metadata": {
        "id": "Mfsf5MwBM66t"
      },
      "execution_count": null,
      "outputs": []
    },
    {
      "cell_type": "markdown",
      "source": [
        "### Resolução"
      ],
      "metadata": {
        "id": "cN4l55khM7OD"
      }
    },
    {
      "cell_type": "code",
      "source": [
        "import numpy as np\n",
        "\n",
        "def calculaMediaPonderada(valores, pesos):\n",
        "  multiplicadoPesos = valores * pesos\n",
        "  somaPesos = np.sum(pesos)\n",
        "  mediaPonderada = np.sum(multiplicadoPesos) / somaPesos\n",
        "  return mediaPonderada\n",
        "\n",
        "valores = np.array([1, 2, 5])\n",
        "pesos = np.array([3, 2, 1])\n",
        "\n",
        "print(calculaMediaPonderada(valores, pesos))"
      ],
      "metadata": {
        "id": "TNCqNKLwM92n",
        "colab": {
          "base_uri": "https://localhost:8080/"
        },
        "outputId": "23bfb7ae-f25f-4632-e7ab-7b5b40f02cbf"
      },
      "execution_count": null,
      "outputs": [
        {
          "output_type": "stream",
          "name": "stdout",
          "text": [
            "2.0\n"
          ]
        }
      ]
    },
    {
      "cell_type": "markdown",
      "source": [
        "## Exercício 5\n",
        "\n",
        "Considere um array bidimensional no qual cada vetor de uma dimensão possui 3 pontuações que um jogador recebeu em 3 provas distintas. Faça uma função que dado esse array, retorne a prova com maior soma de pontuações."
      ],
      "metadata": {
        "id": "p8rfwO8oM-Lg"
      }
    },
    {
      "cell_type": "code",
      "source": [
        "# Código\n",
        "\n",
        "pontuacoes = [[6.5, 7.8, 5.4], [9.5, 8.8, 9.1], [4.5, 7.3, 5.9]]\n",
        "\n",
        "# Saída: 23.9"
      ],
      "metadata": {
        "id": "vjmFL64GNC-9"
      },
      "execution_count": null,
      "outputs": []
    },
    {
      "cell_type": "markdown",
      "source": [
        "### Resolução"
      ],
      "metadata": {
        "id": "TwDyqvV8ND0p"
      }
    },
    {
      "cell_type": "code",
      "source": [
        "import numpy as np\n",
        "\n",
        "def maiorPontuacao(pontuacoes):\n",
        "  pontuacoesNP = np.array(pontuacoes)\n",
        "  somaPorProva = np.sum(pontuacoesNP, axis = 0)\n",
        "  maiorSoma = np.max(somaPorProva)\n",
        "  return maiorSoma\n",
        "\n",
        "# Exemplo para 3 jogadores\n",
        "pontuacoes = [[6.5, 7.8, 5.4], [9.5, 8.8, 9.1], [4.5, 7.3, 5.9]]\n",
        "\n",
        "print(\"%.1f\" % ((maiorPontuacao(pontuacoes))))"
      ],
      "metadata": {
        "id": "VbQUlpPeNFKs",
        "colab": {
          "base_uri": "https://localhost:8080/"
        },
        "outputId": "d25d804e-7246-40ec-876f-31959001ad25"
      },
      "execution_count": null,
      "outputs": [
        {
          "output_type": "stream",
          "name": "stdout",
          "text": [
            "23.9\n"
          ]
        }
      ]
    },
    {
      "cell_type": "markdown",
      "source": [
        "## Exercício 6\n",
        "\n",
        "Você é um professor e está organizando as notas de seus alunos. Para tanto, você precisa realizar algumas tarefas, como:\n",
        "\n",
        "  - Determinar a média das notas\n",
        "  - Determinar a maior e a menor notas e os alunos que as tiraram\n",
        "  - Determinar as notas dos alunos aprovados e reprovados\n",
        "\n",
        "Considere que são aprovados os alunos com notas maiores ou iguais a 5.0."
      ],
      "metadata": {
        "id": "w07GYCxfNF4P"
      }
    },
    {
      "cell_type": "code",
      "source": [
        "# Código\n",
        "\n",
        "notas = np.array([2.5, 7.8, 6.7, 9.4, 3.8, 5.1, 4.4, 8.2])"
      ],
      "metadata": {
        "id": "hmx6QABTNIbJ"
      },
      "execution_count": null,
      "outputs": []
    },
    {
      "cell_type": "markdown",
      "source": [
        "### Resolução"
      ],
      "metadata": {
        "id": "NnORcam0NI13"
      }
    },
    {
      "cell_type": "code",
      "source": [
        "import numpy as np\n",
        "\n",
        "def analisaNotas(notas):\n",
        "  media = np.mean(notas)\n",
        "  maiorNota = np.max(notas)\n",
        "  menorNota = np.min(notas)\n",
        "  maiorNotaAluno = np.argmax(notas)\n",
        "  menorNotaAluno = np.argmin(notas)\n",
        "\n",
        "  notaCorte = 5.0\n",
        "\n",
        "  alunosAprovados = notas[notas >= notaCorte]\n",
        "  alunosReprovados = notas[notas < notaCorte]\n",
        "\n",
        "  print(f\"Média das notas: %.1f\" % (media))\n",
        "  print(f\"Maior nota: {maiorNota} - Aluno: {maiorNotaAluno}\")\n",
        "  print(f\"Menor nota: {menorNota} - Aluno: {menorNotaAluno}\")\n",
        "  print(f\"Notas dos Alunos aprovados: {alunosAprovados}\")\n",
        "  print(f\"Notas dos Alunos reprovados: {alunosReprovados}\")\n",
        "\n",
        "notas = np.array([2.5, 7.8, 6.7, 9.4, 3.8, 5.1, 4.4, 8.2])\n",
        "\n",
        "analisaNotas(notas)"
      ],
      "metadata": {
        "id": "vO7-9a_FNKlo",
        "colab": {
          "base_uri": "https://localhost:8080/"
        },
        "outputId": "d105a600-1195-43ae-8dfa-21ce94278785"
      },
      "execution_count": null,
      "outputs": [
        {
          "output_type": "stream",
          "name": "stdout",
          "text": [
            "Média das notas: 6.0\n",
            "Maior nota: 9.4 - Aluno: 3\n",
            "Menor nota: 2.5 - Aluno: 0\n",
            "Notas dos Alunos aprovados: [7.8 6.7 9.4 5.1 8.2]\n",
            "Notas dos Alunos reprovados: [2.5 3.8 4.4]\n"
          ]
        }
      ]
    },
    {
      "cell_type": "markdown",
      "source": [
        "## Exercício 7\n",
        "\n",
        "Um quadrado mágico é todo quadrado de lado $n$ em que os inteiros de 1 a $n^2$ aparecem sem repetição e em que as somas dos elementos das linhas, colunas e diagonais são iguais.\n",
        "\n",
        "Faça uma função que recebe uma matriz quadrada e que verifique se ela é um quadrado mágico ou não.\n",
        "\n",
        "Exemplo: O quadrado\n",
        "$\n",
        "\\begin{bmatrix}\n",
        "2 & 9 & 4 \\\\\n",
        "7 & 5 & 3 \\\\\n",
        "6 & 1 & 8\n",
        "\\end{bmatrix}\n",
        "$\n",
        "é um quadrado mágico. Observe que as linhas, colunas e diagonais possuem soma igual a 15."
      ],
      "metadata": {
        "id": "mk5xb8hTNK6j"
      }
    },
    {
      "cell_type": "code",
      "source": [
        "# Código\n",
        "\n",
        "quadradoMagico = np.array([[2, 7, 6], [9, 5, 1], [4, 3, 8]])\n",
        "quadradoNaoMagico = np.array([[1, 2, 3], [4, 5, 6], [7, 8, 9]])\n",
        "\n",
        "# Saída: \"É um quadrado mágico\"\n",
        "# Saída: \"Não é um quadrado mágico\""
      ],
      "metadata": {
        "id": "xk2Plj82NMdz"
      },
      "execution_count": null,
      "outputs": []
    },
    {
      "cell_type": "markdown",
      "source": [
        "### Resolução"
      ],
      "metadata": {
        "id": "GU90snvwNM_8"
      }
    },
    {
      "cell_type": "code",
      "source": [
        "import numpy as np\n",
        "\n",
        "# Retorna True se quadrado mágico\n",
        "# Retorna False caso contrário\n",
        "def verificaQuadradoMagico(quadrado):\n",
        "  n = quadrado.shape[0]\n",
        "\n",
        "  # .flatten() cria uma cópia em 1 dimensão de \"quadrado\"\n",
        "  quadradoUnidimensional = quadrado.flatten()\n",
        "\n",
        "  # Ordena quadradoUnidimensional em ordem crescente\n",
        "  # Verifica se quadradoUnidimensional e o vetor de 1 a n^2 são iguais\n",
        "  if not np.array_equal(np.sort(quadradoUnidimensional), np.arange(1, n**2 + 1)):\n",
        "    return False\n",
        "\n",
        "  # Pega a soma da primeira linha como base\n",
        "  soma = np.sum(quadrado[0, :])\n",
        "\n",
        "  # Verifica se todas as colunas (axis = 1) possuem a mesma soma\n",
        "  if not np.all(np.sum(quadrado, axis = 1) == soma):\n",
        "    return False\n",
        "\n",
        "  # Verifica se todas as linhas (axis = 0) possuem a mesma soma\n",
        "  if not np.all(np.sum(quadrado, axis = 0) == soma):\n",
        "    return False\n",
        "\n",
        "  # Veriica se a diagonal principal possui a mesma soma\n",
        "  if np.sum(np.diag(quadrado)) != soma:\n",
        "    return False\n",
        "\n",
        "  # Veriica se a diagonal secundária possui a mesma soma\n",
        "  if np.sum(np.diag(np.fliplr(quadrado))) != soma:\n",
        "    return False\n",
        "\n",
        "  return True\n",
        "\n",
        "quadradoMagico = np.array([[2, 7, 6], [9, 5, 1], [4, 3, 8]])\n",
        "quadradoNaoMagico = np.array([[1, 2, 3], [4, 5, 6], [7, 8, 9]])\n",
        "\n",
        "if verificaQuadradoMagico(quadradoMagico):\n",
        "  print(\"É um quadrado mágico.\")\n",
        "else:\n",
        "  print(\"Não é um quadrado mágico.\")\n",
        "\n",
        "if verificaQuadradoMagico(quadradoNaoMagico):\n",
        "  print(\"É um quadrado mágico.\")\n",
        "else:\n",
        "  print(\"Não é um quadrado mágico.\")"
      ],
      "metadata": {
        "id": "U8O1vuCmNO58",
        "colab": {
          "base_uri": "https://localhost:8080/"
        },
        "outputId": "1c0a85dd-506e-48e0-cebb-80a1906a1776"
      },
      "execution_count": null,
      "outputs": [
        {
          "output_type": "stream",
          "name": "stdout",
          "text": [
            "É um quadrado mágico.\n",
            "Não é um quadrado mágico.\n"
          ]
        }
      ]
    }
  ]
}